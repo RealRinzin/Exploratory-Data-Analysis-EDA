{
 "cells": [
  {
   "cell_type": "code",
   "execution_count": 3,
   "metadata": {},
   "outputs": [],
   "source": [
    "import pandas as pd\n",
    "import numpy as np"
   ]
  },
  {
   "cell_type": "code",
   "execution_count": 6,
   "metadata": {},
   "outputs": [
    {
     "data": {
      "text/plain": [
       "school_name            633\n",
       "area                   633\n",
       "address                633\n",
       "level                  633\n",
       "bus                    640\n",
       "AddmissionLast Date    983\n",
       "dtype: int64"
      ]
     },
     "execution_count": 6,
     "metadata": {},
     "output_type": "execute_result"
    }
   ],
   "source": [
    "raw_data = pd.read_csv('./raw_data.csv')\n",
    "raw_data.isna().sum()"
   ]
  },
  {
   "cell_type": "code",
   "execution_count": 136,
   "metadata": {},
   "outputs": [],
   "source": [
    "cleaned_data = raw_data.dropna(subset=['AddmissionLast Date'])"
   ]
  },
  {
   "cell_type": "code",
   "execution_count": 163,
   "metadata": {},
   "outputs": [
    {
     "data": {
      "text/plain": [
       "0    2021-09-09\n",
       "2    2021-08-08\n",
       "7           NaT\n",
       "8    2021-09-09\n",
       "9    2023-09-09\n",
       "10          NaT\n",
       "11   2021-01-01\n",
       "13   2021-09-09\n",
       "14   2021-09-09\n",
       "15          NaT\n",
       "16   2021-09-09\n",
       "17          NaT\n",
       "18          NaT\n",
       "19          NaT\n",
       "22          NaT\n",
       "23          NaT\n",
       "Name: AddmissionLast Date, dtype: datetime64[ns]"
      ]
     },
     "execution_count": 163,
     "metadata": {},
     "output_type": "execute_result"
    }
   ],
   "source": [
    "pd.to_datetime(cleaned_data['AddmissionLast Date'], errors='coerce',dayfirst=True)"
   ]
  },
  {
   "cell_type": "code",
   "execution_count": 158,
   "metadata": {},
   "outputs": [
    {
     "name": "stderr",
     "output_type": "stream",
     "text": [
      "/var/folders/k4/z6f6ppnd4b58v5z7g8jltqdh0000gn/T/ipykernel_57370/1725771352.py:1: FutureWarning: A value is trying to be set on a copy of a DataFrame or Series through chained assignment using an inplace method.\n",
      "The behavior will change in pandas 3.0. This inplace method will never work because the intermediate object on which we are setting values always behaves as a copy.\n",
      "\n",
      "For example, when doing 'df[col].method(value, inplace=True)', try using 'df.method({col: value}, inplace=True)' or df[col] = df[col].method(value) instead, to perform the operation inplace on the original object.\n",
      "\n",
      "\n",
      "  cleaned_data['AddmissionLast Date'].replace(np.nan,'2021-09-09',inplace=True)\n",
      "/var/folders/k4/z6f6ppnd4b58v5z7g8jltqdh0000gn/T/ipykernel_57370/1725771352.py:1: SettingWithCopyWarning: \n",
      "A value is trying to be set on a copy of a slice from a DataFrame\n",
      "\n",
      "See the caveats in the documentation: https://pandas.pydata.org/pandas-docs/stable/user_guide/indexing.html#returning-a-view-versus-a-copy\n",
      "  cleaned_data['AddmissionLast Date'].replace(np.nan,'2021-09-09',inplace=True)\n"
     ]
    }
   ],
   "source": [
    "cleaned_data['AddmissionLast Date'].replace(np.nan,'2021-09-09',inplace=True)"
   ]
  },
  {
   "cell_type": "code",
   "execution_count": 161,
   "metadata": {},
   "outputs": [
    {
     "name": "stderr",
     "output_type": "stream",
     "text": [
      "/var/folders/k4/z6f6ppnd4b58v5z7g8jltqdh0000gn/T/ipykernel_57370/2514376707.py:1: SettingWithCopyWarning: \n",
      "A value is trying to be set on a copy of a slice from a DataFrame.\n",
      "Try using .loc[row_indexer,col_indexer] = value instead\n",
      "\n",
      "See the caveats in the documentation: https://pandas.pydata.org/pandas-docs/stable/user_guide/indexing.html#returning-a-view-versus-a-copy\n",
      "  cleaned_data['school_name'] = cleaned_data['school_name'].str.strip()\n"
     ]
    }
   ],
   "source": [
    "cleaned_data['school_name'] = cleaned_data['school_name'].str.strip()"
   ]
  },
  {
   "cell_type": "code",
   "execution_count": 164,
   "metadata": {},
   "outputs": [],
   "source": [
    "import matplotlib.pyplot as plt"
   ]
  },
  {
   "cell_type": "code",
   "execution_count": 165,
   "metadata": {},
   "outputs": [
    {
     "data": {
      "text/html": [
       "<div>\n",
       "<style scoped>\n",
       "    .dataframe tbody tr th:only-of-type {\n",
       "        vertical-align: middle;\n",
       "    }\n",
       "\n",
       "    .dataframe tbody tr th {\n",
       "        vertical-align: top;\n",
       "    }\n",
       "\n",
       "    .dataframe thead th {\n",
       "        text-align: right;\n",
       "    }\n",
       "</style>\n",
       "<table border=\"1\" class=\"dataframe\">\n",
       "  <thead>\n",
       "    <tr style=\"text-align: right;\">\n",
       "      <th></th>\n",
       "      <th>school_name</th>\n",
       "      <th>area</th>\n",
       "      <th>address</th>\n",
       "      <th>level</th>\n",
       "      <th>bus</th>\n",
       "      <th>AddmissionLast Date</th>\n",
       "    </tr>\n",
       "  </thead>\n",
       "  <tbody>\n",
       "    <tr>\n",
       "      <th>0</th>\n",
       "      <td>Nanyang Girls' High School</td>\n",
       "      <td>West</td>\n",
       "      <td>2 Linden Drive, Bukit Timah, S(288683)</td>\n",
       "      <td>Secondry</td>\n",
       "      <td>66;67;74;151;154;156;157;170;171;174;852;961</td>\n",
       "      <td>09-09-2021</td>\n",
       "    </tr>\n",
       "    <tr>\n",
       "      <th>2</th>\n",
       "      <td>St. Anthony'S Primary School</td>\n",
       "      <td>West</td>\n",
       "      <td>30 Bukit Batok St 32, Bukit Batok, S(659401)</td>\n",
       "      <td>Primary</td>\n",
       "      <td>945</td>\n",
       "      <td>08-08-2021</td>\n",
       "    </tr>\n",
       "    <tr>\n",
       "      <th>7</th>\n",
       "      <td>Pei Chun Public School</td>\n",
       "      <td>South</td>\n",
       "      <td>580 Toa Payoh East, Toa Payoh, S(319133)</td>\n",
       "      <td>Primary</td>\n",
       "      <td>232;57</td>\n",
       "      <td>2021-08-08</td>\n",
       "    </tr>\n",
       "  </tbody>\n",
       "</table>\n",
       "</div>"
      ],
      "text/plain": [
       "                    school_name   area  \\\n",
       "0    Nanyang Girls' High School   West   \n",
       "2  St. Anthony'S Primary School   West   \n",
       "7        Pei Chun Public School  South   \n",
       "\n",
       "                                        address     level  \\\n",
       "0        2 Linden Drive, Bukit Timah, S(288683)  Secondry   \n",
       "2  30 Bukit Batok St 32, Bukit Batok, S(659401)   Primary   \n",
       "7      580 Toa Payoh East, Toa Payoh, S(319133)   Primary   \n",
       "\n",
       "                                            bus AddmissionLast Date  \n",
       "0  66;67;74;151;154;156;157;170;171;174;852;961          09-09-2021  \n",
       "2                                           945          08-08-2021  \n",
       "7                                        232;57          2021-08-08  "
      ]
     },
     "execution_count": 165,
     "metadata": {},
     "output_type": "execute_result"
    }
   ],
   "source": [
    "cleaned_data.head(3)"
   ]
  },
  {
   "cell_type": "code",
   "execution_count": null,
   "metadata": {},
   "outputs": [
    {
     "data": {
      "text/plain": [
       "Text(0, 0.5, 'Level of Schools')"
      ]
     },
     "execution_count": 229,
     "metadata": {},
     "output_type": "execute_result"
    },
    {
     "data": {
      "image/png": "[encoded data removed]",
      "text/plain": [
       "<Figure size 640x480 with 1 Axes>"
      ]
     },
     "metadata": {},
     "output_type": "display_data"
    }
   ],
   "source": [
    "\n",
    "\n",
    "\n",
    "plt.bar(cleaned_data['area'],cleaned_data['level'],color=['yellow','red'],alpha=0.5,capsize=5,width=.6,edgecolor='gray')\n",
    "plt.title(\"School levels located at different Areas\")\n",
    "plt.xlabel(\"Areas of the schools\")\n",
    "plt.ylabel(\"Level of Schools\")"
   ]
  },
  {
   "cell_type": "code",
   "execution_count": 226,
   "metadata": {},
   "outputs": [
    {
     "data": {
      "text/html": [
       "<div>\n",
       "<style scoped>\n",
       "    .dataframe tbody tr th:only-of-type {\n",
       "        vertical-align: middle;\n",
       "    }\n",
       "\n",
       "    .dataframe tbody tr th {\n",
       "        vertical-align: top;\n",
       "    }\n",
       "\n",
       "    .dataframe thead th {\n",
       "        text-align: right;\n",
       "    }\n",
       "</style>\n",
       "<table border=\"1\" class=\"dataframe\">\n",
       "  <thead>\n",
       "    <tr style=\"text-align: right;\">\n",
       "      <th></th>\n",
       "      <th>area</th>\n",
       "      <th>level</th>\n",
       "    </tr>\n",
       "  </thead>\n",
       "  <tbody>\n",
       "    <tr>\n",
       "      <th>0</th>\n",
       "      <td>East</td>\n",
       "      <td>2</td>\n",
       "    </tr>\n",
       "    <tr>\n",
       "      <th>1</th>\n",
       "      <td>North</td>\n",
       "      <td>4</td>\n",
       "    </tr>\n",
       "    <tr>\n",
       "      <th>2</th>\n",
       "      <td>South</td>\n",
       "      <td>6</td>\n",
       "    </tr>\n",
       "    <tr>\n",
       "      <th>3</th>\n",
       "      <td>West</td>\n",
       "      <td>4</td>\n",
       "    </tr>\n",
       "  </tbody>\n",
       "</table>\n",
       "</div>"
      ],
      "text/plain": [
       "    area  level\n",
       "0   East      2\n",
       "1  North      4\n",
       "2  South      6\n",
       "3   West      4"
      ]
     },
     "execution_count": 226,
     "metadata": {},
     "output_type": "execute_result"
    }
   ],
   "source": [
    "area = pd.DataFrame(cleaned_data.groupby(['area'])['level'].count()).reset_index()\n",
    "area"
   ]
  },
  {
   "cell_type": "code",
   "execution_count": 232,
   "metadata": {},
   "outputs": [
    {
     "data": {
      "text/plain": [
       "Text(0, 0.5, 'Level of Schools')"
      ]
     },
     "execution_count": 232,
     "metadata": {},
     "output_type": "execute_result"
    },
    {
     "data": {
      "image/png": "[encoded data removed]",
      "text/plain": [
       "<Figure size 640x480 with 1 Axes>"
      ]
     },
     "metadata": {},
     "output_type": "display_data"
    }
   ],
   "source": [
    "plt.bar(area['area'],area['level'],color=['#faa538', '#faa538','#e19432','#af7327'],alpha=0.9,capsize=5,width=.9,edgecolor='gray')\n",
    "plt.title(\"School levels located at different Areas\")\n",
    "plt.xlabel(\"Areas of the schools\")\n",
    "# plt.text(area['level'])\n",
    "# plt.Widget\n",
    "plt.ylabel(\"Level of Schools\")"
   ]
  },
  {
   "cell_type": "code",
   "execution_count": null,
   "metadata": {},
   "outputs": [],
   "source": []
  },
  {
   "cell_type": "code",
   "execution_count": null,
   "metadata": {},
   "outputs": [],
   "source": []
  }
 ],
 "metadata": {
  "kernelspec": {
   "display_name": "Python 3",
   "language": "python",
   "name": "python3"
  },
  "language_info": {
   "codemirror_mode": {
    "name": "ipython",
    "version": 3
   },
   "file_extension": ".py",
   "mimetype": "text/x-python",
   "name": "python",
   "nbconvert_exporter": "python",
   "pygments_lexer": "ipython3",
   "version": "3.12.1"
  }
 },
 "nbformat": 4,
 "nbformat_minor": 2
}
